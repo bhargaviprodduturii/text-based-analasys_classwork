{
 "cells": [
  {
   "cell_type": "markdown",
   "id": "bcb0cac0-4d30-4b88-87c6-c89fb424d570",
   "metadata": {},
   "source": [
    "## string operations"
   ]
  },
  {
   "cell_type": "code",
   "execution_count": 5,
   "id": "104262af",
   "metadata": {},
   "outputs": [
    {
     "name": "stdout",
     "output_type": "stream",
     "text": [
      "hello\n"
     ]
    }
   ],
   "source": [
    "a=\"hello\"\n",
    "print(a)"
   ]
  },
  {
   "cell_type": "markdown",
   "id": "fed447fd-833b-4b91-a9ea-3bac93b53a94",
   "metadata": {},
   "source": [
    "## index number "
   ]
  },
  {
   "cell_type": "code",
   "execution_count": 6,
   "id": "254603fa",
   "metadata": {},
   "outputs": [
    {
     "name": "stdout",
     "output_type": "stream",
     "text": [
      "e\n"
     ]
    }
   ],
   "source": [
    "a=\"Hello, World\"\n",
    "print(a[1])"
   ]
  },
  {
   "cell_type": "code",
   "execution_count": 7,
   "id": "863d57f2-6c1e-4045-bcbe-4d2c6f8c41d8",
   "metadata": {},
   "outputs": [
    {
     "name": "stdout",
     "output_type": "stream",
     "text": [
      "llo\n"
     ]
    }
   ],
   "source": [
    "b=\"Hello World\"\n",
    "print(b[2:5])\n"
   ]
  },
  {
   "cell_type": "markdown",
   "id": "cd535d85-9436-4229-84dd-0e630b170e01",
   "metadata": {},
   "source": [
    "## Length of string"
   ]
  },
  {
   "cell_type": "code",
   "execution_count": 9,
   "id": "08455552",
   "metadata": {},
   "outputs": [
    {
     "data": {
      "text/plain": [
       "5"
      ]
     },
     "execution_count": 9,
     "metadata": {},
     "output_type": "execute_result"
    }
   ],
   "source": [
    "len(a)"
   ]
  },
  {
   "attachments": {},
   "cell_type": "markdown",
   "id": "b0084144-1e4c-44c2-9655-9cb5b3c994ee",
   "metadata": {},
   "source": [
    "## string concatenation\n"
   ]
  },
  {
   "cell_type": "code",
   "execution_count": 8,
   "id": "10f89b01",
   "metadata": {},
   "outputs": [
    {
     "name": "stdout",
     "output_type": "stream",
     "text": [
      "helloworld\n"
     ]
    }
   ],
   "source": [
    "a= \"hello\"\n",
    "b= \"world\"\n",
    "c =a+\"\"+b\n",
    "print(c)"
   ]
  },
  {
   "cell_type": "markdown",
   "id": "0f0978f0-bf3d-4ba0-95ae-7d453845804d",
   "metadata": {},
   "source": [
    "## string lower"
   ]
  },
  {
   "cell_type": "code",
   "execution_count": 14,
   "id": "5d0e732a",
   "metadata": {},
   "outputs": [
    {
     "name": "stdout",
     "output_type": "stream",
     "text": [
      "hello\n"
     ]
    }
   ],
   "source": [
    "print(a.lower())"
   ]
  },
  {
   "cell_type": "markdown",
   "id": "7bbc69db-b076-4a33-b107-4ca1a27df79c",
   "metadata": {},
   "source": [
    "## string upper"
   ]
  },
  {
   "cell_type": "code",
   "execution_count": 15,
   "id": "90c2a2ef",
   "metadata": {},
   "outputs": [
    {
     "name": "stdout",
     "output_type": "stream",
     "text": [
      "HELLO\n"
     ]
    }
   ],
   "source": [
    "print(a.upper())"
   ]
  },
  {
   "cell_type": "markdown",
   "id": "290c287f-3b02-4c56-8a05-dbef8583e9ad",
   "metadata": {},
   "source": [
    "## replace func"
   ]
  },
  {
   "cell_type": "code",
   "execution_count": 8,
   "id": "5d0bf55e-b44c-489f-8fda-0d55b9bb985d",
   "metadata": {},
   "outputs": [
    {
     "name": "stdout",
     "output_type": "stream",
     "text": [
      "Kello World\n"
     ]
    }
   ],
   "source": [
    "print (b.replace('H','K'))"
   ]
  },
  {
   "cell_type": "code",
   "execution_count": 16,
   "id": "1ff80ad8",
   "metadata": {},
   "outputs": [
    {
     "name": "stdout",
     "output_type": "stream",
     "text": [
      "hello\n"
     ]
    }
   ],
   "source": [
    "print(a.lstrip())"
   ]
  },
  {
   "cell_type": "markdown",
   "id": "db9777eb-0ace-4d3e-82f2-df16f3e92d86",
   "metadata": {},
   "source": [
    "## creating lstrip"
   ]
  },
  {
   "cell_type": "code",
   "execution_count": 20,
   "id": "8daa90ba",
   "metadata": {},
   "outputs": [
    {
     "data": {
      "text/plain": [
       "'hello world'"
      ]
     },
     "execution_count": 20,
     "metadata": {},
     "output_type": "execute_result"
    }
   ],
   "source": [
    "a='      hello world'\n",
    "a.lstrip()"
   ]
  },
  {
   "cell_type": "markdown",
   "id": "8da4cd6c-999c-4eb0-bfa0-0e7bddf9d291",
   "metadata": {},
   "source": [
    "## create a strip "
   ]
  },
  {
   "cell_type": "code",
   "execution_count": 23,
   "id": "45965cf1",
   "metadata": {},
   "outputs": [
    {
     "data": {
      "text/plain": [
       "'hello ,   kitty'"
      ]
     },
     "execution_count": 23,
     "metadata": {},
     "output_type": "execute_result"
    }
   ],
   "source": [
    "c=\"   hello ,   kitty\"\n",
    "c.strip()"
   ]
  },
  {
   "cell_type": "code",
   "execution_count": 25,
   "id": "165ebd1b",
   "metadata": {},
   "outputs": [
    {
     "data": {
      "text/plain": [
       "'hey , kitty'"
      ]
     },
     "execution_count": 25,
     "metadata": {},
     "output_type": "execute_result"
    }
   ],
   "source": [
    "b = '    hey , kitty'\n",
    "b.lstrip()"
   ]
  },
  {
   "cell_type": "code",
   "execution_count": 22,
   "id": "050ce886",
   "metadata": {},
   "outputs": [
    {
     "data": {
      "text/plain": [
       "'hello world'"
      ]
     },
     "execution_count": 22,
     "metadata": {},
     "output_type": "execute_result"
    }
   ],
   "source": [
    "a.strip()"
   ]
  },
  {
   "cell_type": "markdown",
   "id": "617a82ba-3a05-455c-ae86-867103beed3e",
   "metadata": {},
   "source": [
    "## string method in endswith substring"
   ]
  },
  {
   "cell_type": "code",
   "execution_count": 28,
   "id": "5cbcc2e6",
   "metadata": {},
   "outputs": [
    {
     "data": {
      "text/plain": [
       "True"
      ]
     },
     "execution_count": 28,
     "metadata": {},
     "output_type": "execute_result"
    }
   ],
   "source": [
    "a= ' hello kiddo'\n",
    "a.endswith('kiddo')"
   ]
  },
  {
   "cell_type": "code",
   "execution_count": 29,
   "id": "9ab36b32",
   "metadata": {},
   "outputs": [
    {
     "data": {
      "text/plain": [
       "False"
      ]
     },
     "execution_count": 29,
     "metadata": {},
     "output_type": "execute_result"
    }
   ],
   "source": [
    "a.endswith('hii')"
   ]
  },
  {
   "cell_type": "markdown",
   "id": "80c4f979-ca97-46bc-9140-fa3b196fd3c4",
   "metadata": {},
   "source": [
    "## string method in startswith substring"
   ]
  },
  {
   "cell_type": "code",
   "execution_count": 30,
   "id": "020d8688",
   "metadata": {},
   "outputs": [
    {
     "data": {
      "text/plain": [
       "True"
      ]
     },
     "execution_count": 30,
     "metadata": {},
     "output_type": "execute_result"
    }
   ],
   "source": [
    "a= \"joy, andress\"\n",
    "a.startswith(\"joy\")"
   ]
  },
  {
   "cell_type": "markdown",
   "id": "1f0fbe3c-40ce-4e2d-a5b7-fb4fe5276ed9",
   "metadata": {},
   "source": [
    "## string method in find the substring"
   ]
  },
  {
   "cell_type": "code",
   "execution_count": 31,
   "id": "950e1c4a",
   "metadata": {},
   "outputs": [
    {
     "data": {
      "text/plain": [
       "11"
      ]
     },
     "execution_count": 31,
     "metadata": {},
     "output_type": "execute_result"
    }
   ],
   "source": [
    "b= \" tonny was great guy\"\n",
    "b.find(\"great guy\")"
   ]
  },
  {
   "cell_type": "markdown",
   "id": "039a87b1-5b88-40dd-ab13-161e4d6568ae",
   "metadata": {},
   "source": [
    "## replace with a substring and addin a new substring"
   ]
  },
  {
   "cell_type": "code",
   "execution_count": 32,
   "id": "86da04da",
   "metadata": {},
   "outputs": [
    {
     "data": {
      "text/plain": [
       "'he is very great guy'"
      ]
     },
     "execution_count": 32,
     "metadata": {},
     "output_type": "execute_result"
    }
   ],
   "source": [
    "c= \"he is very intelligent\"\n",
    "c.replace(\"intelligent\",\"great guy\")"
   ]
  },
  {
   "cell_type": "markdown",
   "id": "5ef23380-924c-4311-ac9b-0a39059942aa",
   "metadata": {},
   "source": [
    "## string method in rstrip"
   ]
  },
  {
   "cell_type": "code",
   "execution_count": 33,
   "id": "a32cef19",
   "metadata": {},
   "outputs": [
    {
     "data": {
      "text/plain": [
       "'he is very intelligent'"
      ]
     },
     "execution_count": 33,
     "metadata": {},
     "output_type": "execute_result"
    }
   ],
   "source": [
    "c.rstrip(\"very\")"
   ]
  },
  {
   "cell_type": "markdown",
   "id": "24278ff9-9f2d-481b-8fd9-3905ef5a08b5",
   "metadata": {},
   "source": [
    "## split method"
   ]
  },
  {
   "cell_type": "code",
   "execution_count": 34,
   "id": "e458f7e9",
   "metadata": {},
   "outputs": [
    {
     "data": {
      "text/plain": [
       "['he', 'need', 'to', 'attend', 'python', 'class']"
      ]
     },
     "execution_count": 34,
     "metadata": {},
     "output_type": "execute_result"
    }
   ],
   "source": [
    "a= (\"he need to attend python class\")\n",
    "a.split()"
   ]
  },
  {
   "cell_type": "code",
   "execution_count": 37,
   "id": "939bf62c",
   "metadata": {},
   "outputs": [
    {
     "data": {
      "text/plain": [
       "['apple', 'bannana', 'grapes']"
      ]
     },
     "execution_count": 37,
     "metadata": {},
     "output_type": "execute_result"
    }
   ],
   "source": [
    "fruits=(\"apple bannana grapes\")\n",
    "token=fruits.split() \n",
    "token"
   ]
  },
  {
   "cell_type": "markdown",
   "id": "875f1288-15d1-4a98-bad5-e3898b5d3484",
   "metadata": {},
   "source": [
    "## regular expression"
   ]
  },
  {
   "cell_type": "code",
   "execution_count": 38,
   "id": "9da1cf3f",
   "metadata": {},
   "outputs": [
    {
     "data": {
      "text/plain": [
       "['abc', 'abc', 'abc', 'abc', 'abc']"
      ]
     },
     "execution_count": 38,
     "metadata": {},
     "output_type": "execute_result"
    }
   ],
   "source": [
    "import regex as re\n",
    "def tokenize(text):\n",
    "    return re.findall(r'abc',text)\n",
    "x=tokenize(\"abcd 45abc abc% abc.com acbrx .=.abc.=.ab c cba ABC \")\n",
    "x"
   ]
  },
  {
   "cell_type": "code",
   "execution_count": 44,
   "id": "64a91da4",
   "metadata": {},
   "outputs": [
    {
     "data": {
      "text/plain": [
       "['.ty', '.ty', '.ty', '.ty', '.ty', '.ty']"
      ]
     },
     "execution_count": 44,
     "metadata": {},
     "output_type": "execute_result"
    }
   ],
   "source": [
    "import regex as re\n",
    "def tokenize(text):\n",
    "    return re.findall(r'.ty', text)\n",
    "x = tokenize(\"swee.ty smile.ty kit.ty puppy.ty sweeeeet.ty dodgeyy.ty\")\n",
    "x"
   ]
  },
  {
   "cell_type": "code",
   "execution_count": 1,
   "id": "a04202da",
   "metadata": {},
   "outputs": [
    {
     "data": {
      "text/plain": [
       "['abc.abc,com']"
      ]
     },
     "execution_count": 1,
     "metadata": {},
     "output_type": "execute_result"
    }
   ],
   "source": [
    "import regex as re\n",
    "def tokenize(text):\n",
    "    return re.findall(r'abc\\.abc.com', text)\n",
    "x = tokenize(\"efg.abc.com abc.abc,com abc,abc.com ABC.abc.com \")\n",
    "x"
   ]
  },
  {
   "cell_type": "code",
   "execution_count": null,
   "id": "5f871686",
   "metadata": {},
   "outputs": [],
   "source": [
    "#clone\n",
    "#init\n",
    "#commit\n",
    "#add\n",
    "#push"
   ]
  }
 ],
 "metadata": {
  "kernelspec": {
   "display_name": "Python 3 (ipykernel)",
   "language": "python",
   "name": "python3"
  },
  "language_info": {
   "codemirror_mode": {
    "name": "ipython",
    "version": 3
   },
   "file_extension": ".py",
   "mimetype": "text/x-python",
   "name": "python",
   "nbconvert_exporter": "python",
   "pygments_lexer": "ipython3",
   "version": "3.11.7"
  }
 },
 "nbformat": 4,
 "nbformat_minor": 5
}
